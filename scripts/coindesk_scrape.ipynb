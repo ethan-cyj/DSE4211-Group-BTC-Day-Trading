{
 "cells": [
  {
   "cell_type": "code",
   "execution_count": null,
   "metadata": {},
   "outputs": [],
   "source": [
    "import requests\n",
    "import time\n",
    "import datetime\n",
    "import pandas as pd\n",
    "from dotenv import load_dotenv\n",
    "import os\n",
    "\n",
    "load_dotenv()\n",
    "COINDESKAPIKEY = os.getenv(\"COINDESKAPIKEY\") \n"
   ]
  },
  {
   "cell_type": "code",
   "execution_count": 11,
   "metadata": {},
   "outputs": [],
   "source": [
    "def get_unix_timestamp(dt):\n",
    "    return int(dt.timestamp())\n",
    "\n",
    "def fetch_hourly_data_batch(to_ts, limit=1500, market=\"binance\", instrument=\"BTC-USDT\"):\n",
    "    \"\"\"\n",
    "    Fetch a batch of hourly data from the Coindesk API using the working headers.\n",
    "    \"\"\"\n",
    "    url = \"https://data-api.coindesk.com/spot/v1/historical/hours\"\n",
    "    params = {\n",
    "        \"market\": market,\n",
    "        \"instrument\": instrument,\n",
    "        \"limit\": limit,\n",
    "        \"aggregate\": 1,  # hourly intervals\n",
    "        \"fill\": \"true\",\n",
    "        \"apply_mapping\": \"true\",\n",
    "        \"response_format\": \"JSON\",\n",
    "        \"to_ts\": to_ts,\n",
    "        \"api_key\": COINDESKAPIKEY\n",
    "    }\n",
    "    headers = {\"Content-type\": \"application/json; charset=UTF-8\"}\n",
    "    \n",
    "    response = requests.get(url, params=params, headers=headers)\n",
    "    response.raise_for_status()  # Raise an exception for HTTP errors\n",
    "    data = response.json()\n",
    "    return data.get(\"data\", [])\n",
    "\n",
    "def fetch_hourly_data_npages():\n",
    "    \"\"\"\n",
    "    Paginate backwards using `to_ts` for 3 pages (3 calls) of data.\n",
    "    \"\"\"\n",
    "    # Set end time to now (UTC)\n",
    "    end_dt = datetime.datetime.utcnow()\n",
    "    end_ts = get_unix_timestamp(end_dt)\n",
    "    \n",
    "    all_records = []\n",
    "    current_to_ts = end_ts\n",
    "    max_pages = 5  # Limit to 3 API calls\n",
    "    page_count = 0\n",
    "\n",
    "    while page_count < max_pages:\n",
    "        batch_data = fetch_hourly_data_batch(to_ts=current_to_ts)\n",
    "        \n",
    "        if not batch_data:\n",
    "            print(\"No more data returned. Stopping pagination.\")\n",
    "            break\n",
    "        \n",
    "        all_records.extend(batch_data)\n",
    "        page_count += 1\n",
    "        \n",
    "        # Assuming the batch is sorted descending, the last record is the earliest\n",
    "        earliest_record = batch_data[-1]\n",
    "        earliest_timestamp = int(earliest_record[\"time\"])\n",
    "        \n",
    "        print(f\"Page {page_count} retrieved, earliest timestamp in batch: {earliest_timestamp}\")\n",
    "        \n",
    "        # Prepare for next iteration: subtract one hour to avoid duplicate data\n",
    "        current_to_ts = earliest_timestamp - 3600\n",
    "        \n",
    "        time.sleep(1)  # To avoid rate limiting\n",
    "    \n",
    "    df = pd.DataFrame(all_records)\n",
    "    \n",
    "    if df.empty:\n",
    "        print(\"No data retrieved.\")\n",
    "    else:\n",
    "        # Verify that the 'time' column exists\n",
    "        if \"time\" not in df.columns:\n",
    "            print(\"ERROR: The DataFrame does not have a 'time' column. Columns are:\", df.columns)\n",
    "        else:\n",
    "            # Optional: Convert the 'time' column to datetime for easier interpretation.\n",
    "            df[\"datetime\"] = pd.to_datetime(df[\"time\"], unit='s', utc=True)\n",
    "            df.sort_values(by=\"datetime\", inplace=True)\n",
    "    \n",
    "    return df\n"
   ]
  },
  {
   "cell_type": "code",
   "execution_count": 12,
   "metadata": {},
   "outputs": [
    {
     "name": "stdout",
     "output_type": "stream",
     "text": [
      "No more data returned. Stopping pagination.\n",
      "No data retrieved.\n",
      "DataFrame is empty; no data was retrieved.\n"
     ]
    }
   ],
   "source": [
    "# Run the function and display a preview\n",
    "df_prices = fetch_hourly_data_npages()\n",
    "if not df_prices.empty:\n",
    "    print(\"Fetched data shape:\", df_prices.shape)\n",
    "    display(df_prices.head())\n",
    "else:\n",
    "    print(\"DataFrame is empty; no data was retrieved.\")"
   ]
  },
  {
   "cell_type": "code",
   "execution_count": 8,
   "metadata": {},
   "outputs": [],
   "source": [
    "# Save to CSV if desired\n",
    "df_prices.to_csv(\"../data/raw/btc_usdt_6months_hourly.csv\", index=False)"
   ]
  }
 ],
 "metadata": {
  "kernelspec": {
   "display_name": ".venv",
   "language": "python",
   "name": "python3"
  },
  "language_info": {
   "codemirror_mode": {
    "name": "ipython",
    "version": 3
   },
   "file_extension": ".py",
   "mimetype": "text/x-python",
   "name": "python",
   "nbconvert_exporter": "python",
   "pygments_lexer": "ipython3",
   "version": "3.10.11"
  }
 },
 "nbformat": 4,
 "nbformat_minor": 2
}
